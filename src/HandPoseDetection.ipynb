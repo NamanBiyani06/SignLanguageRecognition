{
 "cells": [
  {
   "cell_type": "markdown",
   "id": "a47781be",
   "metadata": {},
   "source": [
    "#### Installing Dependencies"
   ]
  },
  {
   "cell_type": "code",
   "execution_count": 1,
   "id": "811215ae",
   "metadata": {
    "scrolled": true
   },
   "outputs": [
    {
     "name": "stdout",
     "output_type": "stream",
     "text": [
      "Requirement already satisfied: mediapipe in /Library/Frameworks/Python.framework/Versions/3.9/lib/python3.9/site-packages (0.8.10.1)\n",
      "Note: you may need to restart the kernel to use updated packages.\n"
     ]
    }
   ],
   "source": [
    "#importing dependencies\n",
    "%pip install mediapipe opencv-python"
   ]
  },
  {
   "cell_type": "markdown",
   "id": "a984e570",
   "metadata": {},
   "source": [
    "#### Imports"
   ]
  },
  {
   "cell_type": "code",
   "execution_count": 2,
   "id": "52446cce",
   "metadata": {},
   "outputs": [],
   "source": [
    "import mediapipe as mp\n",
    "import cv2\n",
    "import numpy as np\n",
    "import uuid\n",
    "import os\n",
    "import time\n",
    "from PIL import Image"
   ]
  },
  {
   "cell_type": "markdown",
   "id": "696daca8",
   "metadata": {},
   "source": [
    "#### Mediapipe hand model initialization"
   ]
  },
  {
   "cell_type": "code",
   "execution_count": 3,
   "id": "fb035941",
   "metadata": {},
   "outputs": [],
   "source": [
    "#Draws line segments\n",
    "mp_drawing = mp.solutions.drawing_utils\n",
    "#mp hands model\n",
    "mp_hands = mp.solutions.hands"
   ]
  },
  {
   "cell_type": "markdown",
   "id": "c28a3ef8",
   "metadata": {},
   "source": [
    "#### Associating each landmark with its index"
   ]
  },
  {
   "cell_type": "code",
   "execution_count": 4,
   "id": "94ea71fb",
   "metadata": {},
   "outputs": [],
   "source": [
    "WRIST = 0\n",
    "THUMB_CMC = 1\n",
    "THUMB_MCP = 2\n",
    "THUMB_IP = 3\n",
    "THUMB_TIP = 4\n",
    "INDEX_FINGER_MCP = 5\n",
    "INDEX_FINGER_PIP = 6\n",
    "INDEX_FINGER_DIP = 7\n",
    "INDEX_FINGER_TIP = 8\n",
    "MIDDLE_FINGER_MCP = 9\n",
    "MIDDLE_FINGER_PIP = 10\n",
    "MIDDLE_FINGER_DIP = 11\n",
    "MIDDLE_FINGER_TIP = 12\n",
    "RING_FINGER_MCP = 13\n",
    "RING_FINGER_PIP = 14\n",
    "RING_FINGER_DIP = 15\n",
    "RING_FINGER_TIP = 16\n",
    "PINKY_MCP = 17\n",
    "PINKY_PIP = 18\n",
    "PINKY_DIP = 19\n",
    "PINKY_TIP = 20"
   ]
  },
  {
   "cell_type": "markdown",
   "id": "e82e906e",
   "metadata": {},
   "source": [
    "![alt text](https://github.com/NamanBiyani06/HandPoseDetection/blob/main/images/hand_landmarks.png?raw=true)"
   ]
  },
  {
   "cell_type": "markdown",
   "id": "a29789fb",
   "metadata": {},
   "source": [
    "#### Functions to dectect when a hand gesture is performed"
   ]
  },
  {
   "cell_type": "markdown",
   "id": "36e90b44",
   "metadata": {},
   "source": [
    "##### Functions return gesture name depending if joint positions match the generalized positions of the specific gesture"
   ]
  },
  {
   "cell_type": "code",
   "execution_count": 5,
   "id": "82e4800d",
   "metadata": {},
   "outputs": [],
   "source": [
    "# Is the model performing a fist\n",
    "# Coordinate System starts at top left in cv2(Operations are reversed)\n",
    "def fist_gesture(points):\n",
    "    if points[INDEX_FINGER_TIP].y > points[INDEX_FINGER_MCP].y and \\\n",
    "       points[MIDDLE_FINGER_TIP].y > points[MIDDLE_FINGER_MCP].y and \\\n",
    "       points[RING_FINGER_TIP].y > points[RING_FINGER_MCP].y and \\\n",
    "       points[PINKY_TIP].y > points[PINKY_MCP].y:\n",
    "        return True\n",
    "\n",
    "def open_hand_gesture(points):\n",
    "    if points[THUMB_TIP].y < points[THUMB_IP].y and \\\n",
    "       points[INDEX_FINGER_TIP].y < points[INDEX_FINGER_PIP].y and \\\n",
    "       points[MIDDLE_FINGER_TIP].y < points[MIDDLE_FINGER_PIP].y and \\\n",
    "       points[RING_FINGER_TIP].y < points[RING_FINGER_PIP].y and \\\n",
    "       points[PINKY_TIP].y < points[PINKY_PIP].y:\n",
    "        return True"
   ]
  },
  {
   "cell_type": "markdown",
   "id": "4d036788",
   "metadata": {},
   "source": [
    "#### Opening a Computer Vision window and creating a loop to update the model each frame"
   ]
  },
  {
   "cell_type": "code",
   "execution_count": 15,
   "id": "589b07dc",
   "metadata": {
    "scrolled": true
   },
   "outputs": [
    {
     "name": "stdout",
     "output_type": "stream",
     "text": [
      "[classification {\n",
      "  index: 0\n",
      "  score: 0.9809434413909912\n",
      "  label: \"Left\"\n",
      "}\n",
      "]\n",
      "[classification {\n",
      "  index: 0\n",
      "  score: 0.9960464835166931\n",
      "  label: \"Left\"\n",
      "}\n",
      
      "]\n",
      "[classification {\n",
      "  index: 1\n",
      "  score: 0.9851076006889343\n",
      "  label: \"Right\"\n",
      "}\n",
      ", classification {\n",
      "  index: 0\n",
      "  score: 0.9956160187721252\n",
      "  label: \"Left\"\n",
      "}\n",
      "]\n",
      "[classification {\n",
      "  index: 0\n",
      "  score: 0.9892488121986389\n",
      "  label: \"Left\"\n",
      "}\n",
      "]\n"
     ]
    }
   ],
   "source": [
    "#getting webcam feed #0\n",
    "cap = cv2.VideoCapture(0)\n",
    "\n",
    "cv2.startWindowThread()\n",
    "\n",
    "#initializing gesture to prevent errors\n",
    "gesture = \"init\"\n",
    "\n",
    "#declaring following as \"hands\"\n",
    "#detection threshold for intitial detection to be successful\n",
    "#tracking threshold for tracking after initial detection\n",
    "with mp_hands.Hands(min_detection_confidence = 0.8, min_tracking_confidence = 0.5) as hands:\n",
    "    #reading through each frame\n",
    "    while cap.isOpened():\n",
    "        ret,frame = cap.read()\n",
    "\n",
    "        #detections\n",
    "        #recolours from BGR to RGB\n",
    "        #passes in frame, outputs image and RGB\n",
    "        image = cv2.cvtColor(frame, cv2.COLOR_BGR2RGB)\n",
    "        \n",
    "        #image is flipped on the horizontal\n",
    "        image = cv2.flip(image, 1)\n",
    "\n",
    "        image.flags.writeable = False\n",
    "        #detections\n",
    "        results = hands.process(image)\n",
    "        image.flags.writeable = True\n",
    "\n",
    "        #RGB to BGR\n",
    "        image = cv2.cvtColor(image, cv2.COLOR_RGB2BGR)\n",
    "\n",
    "        #Code to draw results on a PNG\n",
    "        #image = Image.open('/Users/namanbiyani/Desktop/HandPoseDetection/images/grid.png')\n",
    "        #image = np.asarray(image)\n",
    "\n",
    "        #checking if we have results\n",
    "        if results.multi_hand_landmarks:\n",
    "            #putting landmarks into landmarks\n",
    "            for landmark in results.multi_hand_landmarks:\n",
    "                landmarks = landmark.landmark\n",
    "            for num, hand in enumerate(results.multi_hand_landmarks):\n",
    "                mp_drawing.draw_landmarks(image, hand, mp_hands.HAND_CONNECTIONS,\n",
    "                mp_drawing.DrawingSpec(color=(255, 0, 204),\n",
    "                thickness=2,\n",
    "                circle_radius = 2),\n",
    "                mp_drawing.DrawingSpec(color=(255, 102, 0),\n",
    "                thickness=2,\n",
    "                circle_radius=7))\n",
    "            print(results.multi_handedness)\n",
    "\n",
    "            \n",
    "            #Obtaining current gesture\n",
    "            if fist_gesture(landmarks):\n",
    "                gesture = \"Fist\"\n",
    "            elif open_hand_gesture(landmarks):\n",
    "                gesture = \"Palm Open\"\n",
    "            else:\n",
    "                gesture = \"NULL\"\n",
    "\n",
    "        \n",
    "        # font used while displaying text\n",
    "        font = cv2.FONT_HERSHEY_SIMPLEX\n",
    "        # putting the current gesture on the window\n",
    "        cv2.putText(image, gesture, (40, 50), font, 1, (255, 0, 0), 2, cv2.LINE_AA)\n",
    "\n",
    "        cv2.imshow('Hand Tracking', image)\n",
    "        cv2.setWindowProperty('Hand Tracking', cv2.WND_PROP_TOPMOST, 1)\n",
    "\n",
    "        \n",
    "\n",
    "        #close window if q is pressed\n",
    "        if cv2.waitKey(10) & 0xff == ord('q'):\n",
    "            cv2.waitKey(1)\n",
    "            cv2.destroyAllWindows()\n",
    "            cv2.waitKey(1)\n",
    "            break\n",
    "\n",
    "cv2.destroyAllWindows()\n",
    "cap.release()\n",
    "\n"
   ]
  }
 ],
 "metadata": {
  "kernelspec": {
   "display_name": "Python 3.9.1 64-bit",
   "language": "python",
   "name": "python3"
  },
  "language_info": {
   "codemirror_mode": {
    "name": "ipython",
    "version": 3
   },
   "file_extension": ".py",
   "mimetype": "text/x-python",
   "name": "python",
   "nbconvert_exporter": "python",
   "pygments_lexer": "ipython3",
   "version": "3.9.1"
  },
  "vscode": {
   "interpreter": {
    "hash": "aee8b7b246df8f9039afb4144a1f6fd8d2ca17a180786b69acc140d282b71a49"
   }
  }
 },
 "nbformat": 4,
 "nbformat_minor": 5
}
